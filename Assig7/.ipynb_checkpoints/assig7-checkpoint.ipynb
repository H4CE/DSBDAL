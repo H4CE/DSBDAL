{
 "cells": [
  {
   "cell_type": "code",
   "execution_count": 4,
   "metadata": {},
   "outputs": [],
   "source": [
    "#regression is the statistical technique which involves finding out the value of a depedent variable from set of independet variables.\n",
    "#in linear regression, there is one dependent variable and 0+ independent variables\n",
    "# also in LR it is assumed that there is a linear and additive relationship between the depedent and independent variables\n",
    "# equation is y= c0 + m1x1+ m2x2 + m3x3 +....+m(n)x(n)"
   ]
  },
  {
   "cell_type": "code",
   "execution_count": 5,
   "metadata": {},
   "outputs": [],
   "source": [
    "import pandas as pd\n",
    "import numpy as np\n",
    "from sklearn.metrics import mean_squared_error,r2_score\n",
    "import matplotlib.pyplot as plt\n",
    "import seaborn as sns\n"
   ]
  },
  {
   "cell_type": "code",
   "execution_count": 6,
   "metadata": {},
   "outputs": [],
   "source": [
    "#just to name the columns in the csv file. No need in practical exams\n",
    "column_names = ['CRIM', 'ZN', 'INDUS', 'CHAS', 'NOX', 'RM', 'AGE', 'DIS', 'RAD', 'TAX', 'PTRATIO', 'B', 'LSTAT', 'MEDV']\n",
    "df=pd.read_csv(\"housing.csv\",header=None,delimiter=r\"\\s+\",names=column_names)\n",
    "df"
   ]
  },
  {
   "cell_type": "code",
   "execution_count": 7,
   "metadata": {},
   "outputs": [],
   "source": [
    "df.isnull().sum()"
   ]
  },
  {
   "cell_type": "code",
   "execution_count": 8,
   "metadata": {},
   "outputs": [],
   "source": [
    "# the last column is the target column and the rest columns are the independent columns\n",
    "# we also need to split the data between train data and test data\n",
    "from sklearn.model_selection import train_test_split\n",
    "\n",
    "#indepnedent columns\n",
    "x=df[['CRIM', 'ZN', 'INDUS', 'CHAS', 'NOX', 'RM', 'AGE', 'DIS', 'RAD', 'TAX', 'PTRATIO', 'B', 'LSTAT']]\n",
    "\n",
    "#dependent/target column\n",
    "y=df[\"MEDV\"]\n",
    "\n",
    "x_train,x_test,y_train,y_test=train_test_split(x,y,test_size=0.3,random_state=8)\n"
   ]
  },
  {
   "cell_type": "code",
   "execution_count": 9,
   "metadata": {},
   "outputs": [],
   "source": [
    "from sklearn import linear_model\n",
    "reg=linear_model.LinearRegression()\n",
    "reg.fit(x_test,y_test)"
   ]
  },
  {
   "cell_type": "code",
   "execution_count": 10,
   "metadata": {},
   "outputs": [],
   "source": [
    "reg.coef_\n"
   ]
  },
  {
   "cell_type": "code",
   "execution_count": 11,
   "metadata": {},
   "outputs": [],
   "source": [
    "reg.intercept_"
   ]
  },
  {
   "cell_type": "code",
   "execution_count": 12,
   "metadata": {},
   "outputs": [],
   "source": [
    "y_pred=reg.predict(x_test)\n",
    "print(y_pred)"
   ]
  },
  {
   "cell_type": "code",
   "execution_count": 13,
   "metadata": {},
   "outputs": [],
   "source": [
    "# find out the rmse value\n",
    "# rmse value= sqrt(((y_test[i]-y_pred[i])^2)/size(y_test))\n",
    "mse=np.square(np.subtract(y_test,y_pred)).mean()\n",
    "mse\n",
    "rmse=np.sqrt(mse)\n",
    "rmse\n",
    "#rmse measures the average difference between values predicted by a model and the actual values. "
   ]
  },
  {
   "cell_type": "code",
   "execution_count": 14,
   "metadata": {},
   "outputs": [],
   "source": [
    "#can directly find out by the rmse by this method\n",
    "rmseDirect=np.sqrt(mean_squared_error(y_test, y_pred))\n",
    "rmseDirect"
   ]
  },
  {
   "cell_type": "code",
   "execution_count": 15,
   "metadata": {},
   "outputs": [],
   "source": [
    "#R2score\n",
    "r2_score(y_test,y_pred)\n",
    "# A high R-squared score, but not perfect, suggests that a large proportion of the variance in the actual values is explained by the predicted values. The predicted values provide a good approximation of the actual values."
   ]
  },
  {
   "cell_type": "code",
   "execution_count": 16,
   "metadata": {},
   "outputs": [],
   "source": [
    "sns.regplot(x=y_test,y=y_pred)\n",
    "plt.title('Regression Plot')\n",
    "#dots are the test values, line is the y_pred values\n"
   ]
  },
  {
   "cell_type": "code",
   "execution_count": 17,
   "metadata": {},
   "outputs": [],
   "source": [
    "plt.figure(figsize=(40,10))\n",
    "plt.plot(range(len(y_pred)), y_pred, color='blue', label='y_pred',marker=\"*\")\n",
    "plt.plot(range(len(y_test)), y_test, color='red', label='y_test',marker=\".\")\n",
    "plt.legend()\n",
    "# on y axis, prices of house are plotted\n",
    "# on x axis, numbers of house are plotted"
   ]
  },
  {
   "cell_type": "code",
   "execution_count": null,
   "metadata": {},
   "outputs": [],
   "source": []
  }
 ],
 "metadata": {
  "kernelspec": {
   "display_name": "Python 3 (ipykernel)",
   "language": "python",
   "name": "python3"
  },
  "language_info": {
   "codemirror_mode": {
    "name": "ipython",
    "version": 3
   },
   "file_extension": ".py",
   "mimetype": "text/x-python",
   "name": "python",
   "nbconvert_exporter": "python",
   "pygments_lexer": "ipython3",
   "version": "3.9.13"
  },
  "vscode": {
   "interpreter": {
    "hash": "11938c6bc6919ae2720b4d5011047913343b08a43b18698fd82dedb0d4417594"
   }
  }
 },
 "nbformat": 4,
 "nbformat_minor": 2
}
